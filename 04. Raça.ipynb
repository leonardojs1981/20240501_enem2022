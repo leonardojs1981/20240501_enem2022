{
 "cells": [
  {
   "cell_type": "code",
   "execution_count": 9,
   "id": "d7c71820",
   "metadata": {},
   "outputs": [],
   "source": [
    "import pandas as pd\n",
    "import numpy as np\n",
    "import matplotlib.pyplot as plt\n",
    "plt.style.use('ggplot')\n"
   ]
  },
  {
   "cell_type": "code",
   "execution_count": 2,
   "id": "6d954f2b",
   "metadata": {},
   "outputs": [],
   "source": [
    "microdados_ = pd.read_pickle('microdados_.pkl')\n"
   ]
  },
  {
   "cell_type": "code",
   "execution_count": 3,
   "id": "b972c920",
   "metadata": {
    "scrolled": true
   },
   "outputs": [
    {
     "data": {
      "text/plain": [
       "Index(['NU_INSCRICAO', 'NU_ANO', 'TP_FAIXA_ETARIA', 'TP_SEXO',\n",
       "       'TP_ESTADO_CIVIL', 'TP_COR_RACA', 'TP_NACIONALIDADE', 'TP_ST_CONCLUSAO',\n",
       "       'TP_ANO_CONCLUIU', 'TP_ESCOLA', 'TP_ENSINO', 'IN_TREINEIRO',\n",
       "       'CO_MUNICIPIO_ESC', 'NO_MUNICIPIO_ESC', 'CO_UF_ESC', 'SG_UF_ESC',\n",
       "       'TP_DEPENDENCIA_ADM_ESC', 'TP_LOCALIZACAO_ESC', 'TP_SIT_FUNC_ESC',\n",
       "       'CO_MUNICIPIO_PROVA', 'NO_MUNICIPIO_PROVA', 'CO_UF_PROVA',\n",
       "       'SG_UF_PROVA', 'TP_PRESENCA_CN', 'TP_PRESENCA_CH', 'TP_PRESENCA_LC',\n",
       "       'TP_PRESENCA_MT', 'CO_PROVA_CN', 'CO_PROVA_CH', 'CO_PROVA_LC',\n",
       "       'CO_PROVA_MT', 'NU_NOTA_CN', 'NU_NOTA_CH', 'NU_NOTA_LC', 'NU_NOTA_MT',\n",
       "       'TX_RESPOSTAS_CN', 'TX_RESPOSTAS_CH', 'TX_RESPOSTAS_LC',\n",
       "       'TX_RESPOSTAS_MT', 'TP_LINGUA', 'TX_GABARITO_CN', 'TX_GABARITO_CH',\n",
       "       'TX_GABARITO_LC', 'TX_GABARITO_MT', 'TP_STATUS_REDACAO',\n",
       "       'NU_NOTA_COMP1', 'NU_NOTA_COMP2', 'NU_NOTA_COMP3', 'NU_NOTA_COMP4',\n",
       "       'NU_NOTA_COMP5', 'NU_NOTA_REDACAO', 'Q001', 'Q002', 'Q003', 'Q004',\n",
       "       'Q005', 'Q006', 'Q007', 'Q008', 'Q009', 'Q010', 'Q011', 'Q012', 'Q013',\n",
       "       'Q014', 'Q015', 'Q016', 'Q017', 'Q018', 'Q019', 'Q020', 'Q021', 'Q022',\n",
       "       'Q023', 'Q024', 'Q025', 'nota_media_objetivas', 'nota_media_geral',\n",
       "       'valor_referencia_renda_familia', 'num_residentes', 'renda_percapita',\n",
       "       'classe_renda_percapita', 'icp_comp_01', 'icp_comp_02_parcial',\n",
       "       'icp_comp_02', 'icp_comp_03_parcial', 'icp_comp_03', 'icp', 'regiao',\n",
       "       'id'],\n",
       "      dtype='object')"
      ]
     },
     "execution_count": 3,
     "metadata": {},
     "output_type": "execute_result"
    }
   ],
   "source": [
    "microdados_.columns"
   ]
  },
  {
   "cell_type": "code",
   "execution_count": 118,
   "id": "5a79c695",
   "metadata": {},
   "outputs": [
    {
     "data": {
      "text/html": [
       "<div>\n",
       "<style scoped>\n",
       "    .dataframe tbody tr th:only-of-type {\n",
       "        vertical-align: middle;\n",
       "    }\n",
       "\n",
       "    .dataframe tbody tr th {\n",
       "        vertical-align: top;\n",
       "    }\n",
       "\n",
       "    .dataframe thead th {\n",
       "        text-align: right;\n",
       "    }\n",
       "</style>\n",
       "<table border=\"1\" class=\"dataframe\">\n",
       "  <thead>\n",
       "    <tr style=\"text-align: right;\">\n",
       "      <th></th>\n",
       "      <th>TP_DEPENDENCIA_ADM_ESC</th>\n",
       "      <th>TP_LOCALIZACAO_ESC</th>\n",
       "      <th>TP_SIT_FUNC_ESC</th>\n",
       "      <th>TP_ESCOLA</th>\n",
       "    </tr>\n",
       "  </thead>\n",
       "  <tbody>\n",
       "    <tr>\n",
       "      <th>1178036</th>\n",
       "      <td>NaN</td>\n",
       "      <td>NaN</td>\n",
       "      <td>NaN</td>\n",
       "      <td>Não Respondeu</td>\n",
       "    </tr>\n",
       "    <tr>\n",
       "      <th>255169</th>\n",
       "      <td>NaN</td>\n",
       "      <td>NaN</td>\n",
       "      <td>NaN</td>\n",
       "      <td>Não Respondeu</td>\n",
       "    </tr>\n",
       "    <tr>\n",
       "      <th>1353799</th>\n",
       "      <td>NaN</td>\n",
       "      <td>NaN</td>\n",
       "      <td>NaN</td>\n",
       "      <td>Não Respondeu</td>\n",
       "    </tr>\n",
       "    <tr>\n",
       "      <th>1507307</th>\n",
       "      <td>NaN</td>\n",
       "      <td>NaN</td>\n",
       "      <td>NaN</td>\n",
       "      <td>Não Respondeu</td>\n",
       "    </tr>\n",
       "    <tr>\n",
       "      <th>228434</th>\n",
       "      <td>NaN</td>\n",
       "      <td>NaN</td>\n",
       "      <td>NaN</td>\n",
       "      <td>Não Respondeu</td>\n",
       "    </tr>\n",
       "  </tbody>\n",
       "</table>\n",
       "</div>"
      ],
      "text/plain": [
       "        TP_DEPENDENCIA_ADM_ESC TP_LOCALIZACAO_ESC TP_SIT_FUNC_ESC  \\\n",
       "1178036                    NaN                NaN             NaN   \n",
       "255169                     NaN                NaN             NaN   \n",
       "1353799                    NaN                NaN             NaN   \n",
       "1507307                    NaN                NaN             NaN   \n",
       "228434                     NaN                NaN             NaN   \n",
       "\n",
       "             TP_ESCOLA  \n",
       "1178036  Não Respondeu  \n",
       "255169   Não Respondeu  \n",
       "1353799  Não Respondeu  \n",
       "1507307  Não Respondeu  \n",
       "228434   Não Respondeu  "
      ]
     },
     "execution_count": 118,
     "metadata": {},
     "output_type": "execute_result"
    }
   ],
   "source": [
    "microdados_[['TP_DEPENDENCIA_ADM_ESC', 'TP_LOCALIZACAO_ESC', 'TP_SIT_FUNC_ESC', 'TP_ESCOLA']].sample(5)\n"
   ]
  },
  {
   "cell_type": "markdown",
   "id": "d57293c1",
   "metadata": {},
   "source": [
    "### 01. Explorando o efeito do componente raça na nota"
   ]
  },
  {
   "cell_type": "code",
   "execution_count": 4,
   "id": "93a2d137",
   "metadata": {},
   "outputs": [],
   "source": [
    "comp_raca = microdados_[microdados_['TP_COR_RACA'].isin(['Preta', 'Branca'])]\n"
   ]
  },
  {
   "cell_type": "code",
   "execution_count": 56,
   "id": "aeae25dc",
   "metadata": {},
   "outputs": [],
   "source": [
    "def add_value_labels(ax, spacing=3):\n",
    "    \"\"\"Add labels to the end of each bar in a bar chart.\n",
    "\n",
    "    Arguments:\n",
    "        ax (matplotlib.axes.Axes): The matplotlib object containing the axes\n",
    "            of the plot to annotate.\n",
    "        spacing (int): The distance between the labels and the bars.\n",
    "    \"\"\"\n",
    "\n",
    "    # For each bar: Place a label\n",
    "    for rect in ax.patches:\n",
    "        # Get X and Y placement of label from rect.\n",
    "        y_value = rect.get_height()\n",
    "        x_value = rect.get_x() + rect.get_width() / 2\n",
    "\n",
    "        # Number of points between bar and label. Change to your liking.\n",
    "        space = spacing\n",
    "        # Vertical alignment for positive values\n",
    "        va = 'bottom'\n",
    "\n",
    "        # If value of bar is negative: Place label below bar\n",
    "        if y_value < 0:\n",
    "            # Invert space to place label below\n",
    "            space *= -1\n",
    "            # Vertically align label at top\n",
    "            va = 'top'\n",
    "\n",
    "        # Use Y value as label and format number with one decimal place\n",
    "        label = \"{:.1f}\".format(y_value)\n",
    "\n",
    "        # Create annotation\n",
    "        ax.annotate(\n",
    "            label,                      # Use `label` as label\n",
    "            (x_value, y_value),         # Place label at end of the bar\n",
    "            xytext=(0, space),          # Vertically shift label by `space`\n",
    "            textcoords=\"offset points\", # Interpret `xytext` as offset in points\n",
    "            ha='center',                # Horizontally center label\n",
    "            va=va)                      # Vertically align label differently for\n",
    "                                        # positive and negative values."
   ]
  },
  {
   "cell_type": "code",
   "execution_count": 75,
   "id": "c2cb6187",
   "metadata": {},
   "outputs": [
    {
     "data": {
      "text/html": [
       "<div>\n",
       "<style scoped>\n",
       "    .dataframe tbody tr th:only-of-type {\n",
       "        vertical-align: middle;\n",
       "    }\n",
       "\n",
       "    .dataframe tbody tr th {\n",
       "        vertical-align: top;\n",
       "    }\n",
       "\n",
       "    .dataframe thead th {\n",
       "        text-align: right;\n",
       "    }\n",
       "</style>\n",
       "<table border=\"1\" class=\"dataframe\">\n",
       "  <thead>\n",
       "    <tr style=\"text-align: right;\">\n",
       "      <th></th>\n",
       "      <th>TP_COR_RACA</th>\n",
       "      <th>nota_media_geral</th>\n",
       "    </tr>\n",
       "  </thead>\n",
       "  <tbody>\n",
       "    <tr>\n",
       "      <th>0</th>\n",
       "      <td>Branca</td>\n",
       "      <td>552.141366</td>\n",
       "    </tr>\n",
       "    <tr>\n",
       "      <th>1</th>\n",
       "      <td>Preta</td>\n",
       "      <td>499.780068</td>\n",
       "    </tr>\n",
       "  </tbody>\n",
       "</table>\n",
       "</div>"
      ],
      "text/plain": [
       "  TP_COR_RACA  nota_media_geral\n",
       "0      Branca        552.141366\n",
       "1       Preta        499.780068"
      ]
     },
     "execution_count": 75,
     "metadata": {},
     "output_type": "execute_result"
    }
   ],
   "source": [
    "group_raca = comp_raca[['TP_COR_RACA', 'nota_media_geral']].groupby(['TP_COR_RACA']).mean().reset_index()\n",
    "group_raca"
   ]
  },
  {
   "cell_type": "code",
   "execution_count": 72,
   "id": "e2ecd1de",
   "metadata": {},
   "outputs": [
    {
     "data": {
      "image/png": "[encoded data removed]",
      "text/plain": [
       "<Figure size 500x400 with 1 Axes>"
      ]
     },
     "metadata": {},
     "output_type": "display_data"
    }
   ],
   "source": [
    "fig, ax = plt.subplots(figsize=(5, 4))\n",
    "\n",
    "\n",
    "race = group_raca['TP_COR_RACA']\n",
    "nota = group_raca['nota_media_geral']\n",
    "bar_labels = ['Branca', 'Preta']\n",
    "bar_colors = ['tab:orange', 'tab:orange']\n",
    "\n",
    "ax.bar(race, nota, label=bar_labels, color=bar_colors, width=0.3, align='center')\n",
    "\n",
    "ax.set_ylabel('Nota Média')\n",
    "#ax.set_title('Nota média por raça declarada')\n",
    "#ax.legend(title='Raça')\n",
    "ax.set_ylim([400,600])\n",
    "add_value_labels(ax)\n",
    "\n",
    "plt.show()"
   ]
  },
  {
   "cell_type": "code",
   "execution_count": 77,
   "id": "49980d93",
   "metadata": {},
   "outputs": [
    {
     "data": {
      "text/html": [
       "<div>\n",
       "<style scoped>\n",
       "    .dataframe tbody tr th:only-of-type {\n",
       "        vertical-align: middle;\n",
       "    }\n",
       "\n",
       "    .dataframe tbody tr th {\n",
       "        vertical-align: top;\n",
       "    }\n",
       "\n",
       "    .dataframe thead th {\n",
       "        text-align: right;\n",
       "    }\n",
       "</style>\n",
       "<table border=\"1\" class=\"dataframe\">\n",
       "  <thead>\n",
       "    <tr style=\"text-align: right;\">\n",
       "      <th></th>\n",
       "      <th>TP_COR_RACA</th>\n",
       "      <th>nota_media_geral</th>\n",
       "    </tr>\n",
       "  </thead>\n",
       "  <tbody>\n",
       "    <tr>\n",
       "      <th>0</th>\n",
       "      <td>Branca</td>\n",
       "      <td>498.414571</td>\n",
       "    </tr>\n",
       "    <tr>\n",
       "      <th>1</th>\n",
       "      <td>Preta</td>\n",
       "      <td>473.933652</td>\n",
       "    </tr>\n",
       "  </tbody>\n",
       "</table>\n",
       "</div>"
      ],
      "text/plain": [
       "  TP_COR_RACA  nota_media_geral\n",
       "0      Branca        498.414571\n",
       "1       Preta        473.933652"
      ]
     },
     "execution_count": 77,
     "metadata": {},
     "output_type": "execute_result"
    }
   ],
   "source": [
    "group_raca_renda = comp_raca[(comp_raca['Q006']=='Até R$ 1.212,00')|(comp_raca['Q006']=='Nenhuma Renda')][['TP_COR_RACA', 'nota_media_geral']].groupby(['TP_COR_RACA']).mean().reset_index()\n",
    "group_raca_renda"
   ]
  },
  {
   "cell_type": "code",
   "execution_count": 79,
   "id": "4cdcb8c7",
   "metadata": {},
   "outputs": [
    {
     "data": {
      "image/png": "[encoded data removed]",
      "text/plain": [
       "<Figure size 500x400 with 1 Axes>"
      ]
     },
     "metadata": {},
     "output_type": "display_data"
    }
   ],
   "source": [
    "fig, ax = plt.subplots(figsize=(5, 4))\n",
    "\n",
    "\n",
    "race = group_raca_renda['TP_COR_RACA']\n",
    "nota = group_raca_renda['nota_media_geral']\n",
    "bar_labels = ['Branca', 'Preta']\n",
    "bar_colors = ['tab:orange', 'tab:orange']\n",
    "\n",
    "ax.bar(race, nota, label=bar_labels, color=bar_colors, width=0.3, align='center')\n",
    "\n",
    "ax.set_ylabel('Nota Média')\n",
    "#ax.set_title('Nota média por raça declarada')\n",
    "#ax.legend(title='Raça')\n",
    "ax.set_ylim([400,550])\n",
    "add_value_labels(ax)\n",
    "\n",
    "plt.show()"
   ]
  },
  {
   "cell_type": "code",
   "execution_count": 88,
   "id": "2bd577ef",
   "metadata": {},
   "outputs": [
    {
     "data": {
      "text/html": [
       "<div>\n",
       "<style scoped>\n",
       "    .dataframe tbody tr th:only-of-type {\n",
       "        vertical-align: middle;\n",
       "    }\n",
       "\n",
       "    .dataframe tbody tr th {\n",
       "        vertical-align: top;\n",
       "    }\n",
       "\n",
       "    .dataframe thead th {\n",
       "        text-align: right;\n",
       "    }\n",
       "</style>\n",
       "<table border=\"1\" class=\"dataframe\">\n",
       "  <thead>\n",
       "    <tr style=\"text-align: right;\">\n",
       "      <th></th>\n",
       "      <th>TP_COR_RACA</th>\n",
       "      <th>nota_media_geral</th>\n",
       "    </tr>\n",
       "  </thead>\n",
       "  <tbody>\n",
       "    <tr>\n",
       "      <th>0</th>\n",
       "      <td>Branca</td>\n",
       "      <td>483.966654</td>\n",
       "    </tr>\n",
       "    <tr>\n",
       "      <th>1</th>\n",
       "      <td>Preta</td>\n",
       "      <td>458.313967</td>\n",
       "    </tr>\n",
       "  </tbody>\n",
       "</table>\n",
       "</div>"
      ],
      "text/plain": [
       "  TP_COR_RACA  nota_media_geral\n",
       "0      Branca        483.966654\n",
       "1       Preta        458.313967"
      ]
     },
     "execution_count": 88,
     "metadata": {},
     "output_type": "execute_result"
    }
   ],
   "source": [
    "group_raca_renda_escola = comp_raca[((comp_raca['Q006']=='Até R$ 1.212,00')|(comp_raca['Q006']=='Nenhuma Renda'))&(comp_raca['TP_DEPENDENCIA_ADM_ESC'].isin(['Estadual', 'Municipal']))][['TP_COR_RACA', 'nota_media_geral']].groupby(['TP_COR_RACA']).mean().reset_index()\n",
    "group_raca_renda_escola"
   ]
  },
  {
   "cell_type": "code",
   "execution_count": 79,
   "id": "dc0b597d",
   "metadata": {
    "scrolled": true
   },
   "outputs": [
    {
     "data": {
      "image/png": "[encoded data removed]",
      "text/plain": [
       "<Figure size 500x400 with 1 Axes>"
      ]
     },
     "metadata": {},
     "output_type": "display_data"
    }
   ],
   "source": [
    "fig, ax = plt.subplots(figsize=(5, 4))\n",
    "\n",
    "\n",
    "race = group_raca_renda['TP_COR_RACA']\n",
    "nota = group_raca_renda['nota_media_geral']\n",
    "bar_labels = ['Branca', 'Preta']\n",
    "bar_colors = ['tab:orange', 'tab:orange']\n",
    "\n",
    "ax.bar(race, nota, label=bar_labels, color=bar_colors, width=0.3, align='center')\n",
    "\n",
    "ax.set_ylabel('Nota Média')\n",
    "#ax.set_title('Nota média por raça declarada')\n",
    "#ax.legend(title='Raça')\n",
    "ax.set_ylim([400,550])\n",
    "add_value_labels(ax)\n",
    "\n",
    "plt.show()"
   ]
  },
  {
   "cell_type": "code",
   "execution_count": 110,
   "id": "8c4f0714",
   "metadata": {},
   "outputs": [
    {
     "name": "stdout",
     "output_type": "stream",
     "text": [
      "[] 52.36129840586602\n",
      "['TP_ESCOLA'] 45.418645462085145\n",
      "['TP_ESCOLA', 'TP_ENSINO'] 36.2222538177523\n",
      "['TP_ESCOLA', 'TP_ENSINO', 'TP_DEPENDENCIA_ADM_ESC'] 34.640162195693506\n",
      "['TP_ESCOLA', 'TP_ENSINO', 'TP_DEPENDENCIA_ADM_ESC', 'TP_LOCALIZACAO_ESC'] 34.554032593008536\n",
      "['TP_ESCOLA', 'TP_ENSINO', 'TP_DEPENDENCIA_ADM_ESC', 'TP_LOCALIZACAO_ESC', 'TP_SIT_FUNC_ESC'] 34.53697072830406\n",
      "['TP_ESCOLA', 'TP_ENSINO', 'TP_DEPENDENCIA_ADM_ESC', 'TP_LOCALIZACAO_ESC', 'TP_SIT_FUNC_ESC', 'CO_UF_ESC'] 32.64552902538492\n",
      "['TP_ESCOLA', 'TP_ENSINO', 'TP_DEPENDENCIA_ADM_ESC', 'TP_LOCALIZACAO_ESC', 'TP_SIT_FUNC_ESC', 'CO_UF_ESC', 'TP_FAIXA_ETARIA'] 29.758682923181517\n",
      "['TP_ESCOLA', 'TP_ENSINO', 'TP_DEPENDENCIA_ADM_ESC', 'TP_LOCALIZACAO_ESC', 'TP_SIT_FUNC_ESC', 'CO_UF_ESC', 'TP_FAIXA_ETARIA', 'TP_SEXO'] 29.577476498006977\n",
      "['TP_ESCOLA', 'TP_ENSINO', 'TP_DEPENDENCIA_ADM_ESC', 'TP_LOCALIZACAO_ESC', 'TP_SIT_FUNC_ESC', 'CO_UF_ESC', 'TP_FAIXA_ETARIA', 'TP_SEXO', 'icp'] 21.25252102482546\n",
      "['TP_ESCOLA', 'TP_ENSINO', 'TP_DEPENDENCIA_ADM_ESC', 'TP_LOCALIZACAO_ESC', 'TP_SIT_FUNC_ESC', 'CO_UF_ESC', 'TP_FAIXA_ETARIA', 'TP_SEXO', 'icp', 'id'] 20.218344248074857\n",
      "['TP_ESCOLA', 'TP_ENSINO', 'TP_DEPENDENCIA_ADM_ESC', 'TP_LOCALIZACAO_ESC', 'TP_SIT_FUNC_ESC', 'CO_UF_ESC', 'TP_FAIXA_ETARIA', 'TP_SEXO', 'icp', 'id', 'CO_MUNICIPIO_ESC'] 19.49088167520593\n"
     ]
    }
   ],
   "source": [
    "lista_controle = ['TP_ESCOLA', 'TP_ENSINO', 'TP_DEPENDENCIA_ADM_ESC', 'TP_LOCALIZACAO_ESC', 'TP_SIT_FUNC_ESC', 'CO_UF_ESC', 'TP_FAIXA_ETARIA', 'TP_SEXO', 'icp', 'id', 'CO_MUNICIPIO_ESC']\n",
    "\n",
    "lista_dif = []\n",
    "lista_itens_controle = []\n",
    "for i in range(len(lista_controle)+1):\n",
    "    controle = lista_controle[:i]\n",
    "\n",
    "    pivot = pd.pivot_table(comp_raca, values='nota_media_geral', index=controle,\n",
    "                           columns=['TP_COR_RACA'], aggfunc=['mean', 'count']).reset_index()\n",
    "\n",
    "    pivot = pivot[(pd.isna(pivot[('mean', 'Branca')])==False)&(pd.isna(pivot[('mean', 'Preta')])==False)]\n",
    "    pivot['dif'] = pivot[('mean', 'Branca')] - pivot[('mean', 'Preta')]\n",
    "    pivot['count_'] = pivot[('count', 'Branca')] + pivot[('count', 'Preta')]\n",
    "    media_ponderada = (pivot['dif']*pivot['count_']).sum()/pivot['count_'].sum()\n",
    "    print(controle, media_ponderada)\n",
    "    lista_dif.append(media_ponderada)\n",
    "    lista_itens_controle.append(len(controle))\n",
    "    "
   ]
  },
  {
   "cell_type": "code",
   "execution_count": 117,
   "id": "55c755eb",
   "metadata": {},
   "outputs": [
    {
     "data": {
      "image/png": "[encoded data removed]",
      "text/plain": [
       "<Figure size 1000x400 with 1 Axes>"
      ]
     },
     "metadata": {},
     "output_type": "display_data"
    }
   ],
   "source": [
    "fig, ax = plt.subplots(figsize=(10, 4))\n",
    "\n",
    "\n",
    "itens_controle = lista_itens_controle\n",
    "media_dif = lista_dif\n",
    "bar_labels = itens_controle\n",
    "#bar_colors = ['tab:orange', 'tab:orange']\n",
    "\n",
    "ax.bar(itens_controle, media_dif, label=bar_labels, width=0.3, align='center')\n",
    "#ax.plot(itens_controle, media_dif, label=bar_labels)\n",
    "\n",
    "\n",
    "ax.set_ylabel('Diferença - Nota Média')\n",
    "ax.set_xlabel('Número de Variáveis de Controle')\n",
    "#ax.set_title('Nota média por raça declarada')\n",
    "#ax.legend(title='Raça')\n",
    "ax.set_ylim([0,60])\n",
    "add_value_labels(ax)\n",
    "plt.xticks(np.arange(min(itens_controle), max(itens_controle)+1, 1.0))\n",
    "\n",
    "plt.show()"
   ]
  },
  {
   "cell_type": "code",
   "execution_count": null,
   "id": "be9e0cbd",
   "metadata": {},
   "outputs": [],
   "source": []
  }
 ],
 "metadata": {
  "kernelspec": {
   "display_name": "Python 3 (ipykernel)",
   "language": "python",
   "name": "python3"
  },
  "language_info": {
   "codemirror_mode": {
    "name": "ipython",
    "version": 3
   },
   "file_extension": ".py",
   "mimetype": "text/x-python",
   "name": "python",
   "nbconvert_exporter": "python",
   "pygments_lexer": "ipython3",
   "version": "3.10.9"
  }
 },
 "nbformat": 4,
 "nbformat_minor": 5
}
