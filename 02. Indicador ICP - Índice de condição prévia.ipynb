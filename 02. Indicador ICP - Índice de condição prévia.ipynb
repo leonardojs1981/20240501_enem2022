{
 "cells": [
  {
   "cell_type": "code",
   "execution_count": null,
   "id": "a6770d9a",
   "metadata": {},
   "outputs": [],
   "source": [
    "import pandas as pd\n",
    "import json\n",
    "import plotly.express as px\n",
    "import numpy as np"
   ]
  },
  {
   "cell_type": "code",
   "execution_count": null,
   "id": "bb8d7fd1",
   "metadata": {},
   "outputs": [],
   "source": [
    "microdados_ = pd.read_pickle('microdados_.pkl')\n",
    "habitos_estudo = pd.read_csv('microdados_enem_2022/DADOS/QUEST_HAB_ESTUDO.csv', encoding='latin1', sep=';')\n"
   ]
  },
  {
   "cell_type": "code",
   "execution_count": null,
   "id": "1c3fe7eb",
   "metadata": {},
   "outputs": [],
   "source": [
    "microdados_.head()"
   ]
  },
  {
   "cell_type": "markdown",
   "id": "4742a12a",
   "metadata": {},
   "source": [
    "### 01. Índice de Condição Prévia"
   ]
  },
  {
   "cell_type": "code",
   "execution_count": null,
   "id": "084c6f5f",
   "metadata": {},
   "outputs": [],
   "source": [
    "def icp_comp_01(faixa):\n",
    "    if 'Acima' in faixa:\n",
    "        val_ref = 5\n",
    "    elif faixa=='Nenhuma Renda':\n",
    "        val_ref = 1\n",
    "    elif '1.818,00' in faixa[-10:]:\n",
    "        val_ref = 1\n",
    "    elif '2.424,00' in faixa[-10:]:\n",
    "        val_ref = 2\n",
    "    elif '3.030,00' in faixa[-10:]:\n",
    "        val_ref = 2\n",
    "    elif '3.636,00' in faixa[-10:]:\n",
    "        val_ref = 2\n",
    "    elif '4.848,00' in faixa[-10:]:\n",
    "        val_ref = 2\n",
    "    elif '6.060,00' in faixa[-10:]:\n",
    "        val_ref = 3\n",
    "    elif '7.272,00' in faixa[-10:]:\n",
    "        val_ref = 3\n",
    "    elif '8.484,00' in faixa[-10:]:\n",
    "        val_ref = 3\n",
    "    elif '9.696,00' in faixa[-10:]:\n",
    "        val_ref = 3\n",
    "    elif '10.908,00' in faixa[-10:]:\n",
    "        val_ref = 3\n",
    "    elif '12.120,00' in faixa[-10:]:\n",
    "        val_ref = 4\n",
    "    elif '14.544,00' in faixa[-10:]:\n",
    "        val_ref = 4\n",
    "    elif '18.180,00' in faixa[-10:]:\n",
    "        val_ref = 4\n",
    "    elif '24.240,00' in faixa[-10:]:\n",
    "        val_ref = 4\n",
    "    else:\n",
    "        val_ref = 1\n",
    "    return val_ref\n",
    "\n",
    "\n",
    "microdados_['icp_comp_01'] = microdados_['Q006'].apply(lambda x: icp_comp_01(x))"
   ]
  },
  {
   "cell_type": "code",
   "execution_count": null,
   "id": "ec41cd1d",
   "metadata": {},
   "outputs": [],
   "source": [
    "def icp_comp_02(row):\n",
    "    # celular\n",
    "    if row['Q022']=='Não.':\n",
    "        n_cel = 0\n",
    "    elif row['Q022']=='Sim, um.':\n",
    "        n_cel = 1\n",
    "    elif row['Q022']=='Sim, dois.':\n",
    "        n_cel = 2\n",
    "    elif row['Q022']=='Sim, três.':\n",
    "        n_cel = 3\n",
    "    else:\n",
    "        n_cel = 4\n",
    "    # computador\n",
    "    if row['Q024']=='Não.':\n",
    "        n_comp = 0\n",
    "    elif row['Q024']=='Sim, um.':\n",
    "        n_comp = 1\n",
    "    elif row['Q024']=='Sim, dois.':\n",
    "        n_comp = 2\n",
    "    elif row['Q024']=='Sim, três.':\n",
    "        n_comp = 3\n",
    "    else:\n",
    "        n_comp = 4 \n",
    "    # internet\n",
    "    if row['Q025']=='Não':\n",
    "        internet = 0\n",
    "    else:\n",
    "        internet = 1\n",
    "    return n_cel*.5 + n_comp + internet*2.5\n",
    "\n",
    "microdados_['icp_comp_02_parcial'] = microdados_.apply(icp_comp_02, axis=1)\n",
    "\n"
   ]
  },
  {
   "cell_type": "code",
   "execution_count": null,
   "id": "b22b82ca",
   "metadata": {},
   "outputs": [],
   "source": [
    "quintil = list(microdados_['icp_comp_02_parcial'].quantile([.2,.4,.6,.8]))\n",
    "\n",
    "def ident_quintil(num):\n",
    "    if num <= quintil[0]:\n",
    "        y = 1\n",
    "    elif num <= quintil[1]:\n",
    "        y = 2\n",
    "    elif num <= quintil[2]:\n",
    "        y = 3\n",
    "    elif num <= quintil[3]:\n",
    "        y = 4\n",
    "    else:\n",
    "        y = 5\n",
    "    return y\n",
    "\n",
    "microdados_['icp_comp_02'] = microdados_['icp_comp_02_parcial'].apply(lambda x: ident_quintil(x))"
   ]
  },
  {
   "cell_type": "code",
   "execution_count": null,
   "id": "9d75d137",
   "metadata": {},
   "outputs": [],
   "source": [
    "def icp_comp_03(row):\n",
    "    # instrucao_pai\n",
    "    if (row['Q001']=='Nunca estudou.')|((row['Q001']=='Não sei.')) :\n",
    "        inst_pai = 0\n",
    "    elif row['Q001']=='Não completou a 4ª série/5º ano do Ensino Fundamental.':\n",
    "        inst_pai = 1\n",
    "    elif row['Q001']=='Completou a 4ª série/5º ano, mas não completou a 8ª série/9º ano do Ensino Fundamental.':\n",
    "        inst_pai = 2\n",
    "    elif row['Q001']=='Completou a 8ª série/9º ano do Ensino Fundamental, mas não completou o Ensino Médio.':\n",
    "        inst_pai = 3\n",
    "    elif row['Q001']=='Completou o Ensino Médio, mas não completou a Faculdade.':\n",
    "        inst_pai = 4\n",
    "    elif row['Q001']=='Completou a Faculdade, mas não completou a Pós-graduação.':\n",
    "        inst_pai = 5\n",
    "    else:\n",
    "        inst_pai = 6\n",
    "    # instrucao_mae\n",
    "    if (row['Q002']=='Nunca estudou.')|((row['Q002']=='Não sei.')) :\n",
    "        inst_mae = 0\n",
    "    elif row['Q002']=='Não completou a 4ª série/5º ano do Ensino Fundamental.':\n",
    "        inst_mae = 1\n",
    "    elif row['Q002']=='Completou a 4ª série/5º ano, mas não completou a 8ª série/9º ano do Ensino Fundamental.':\n",
    "        inst_mae = 2\n",
    "    elif row['Q002']=='Completou a 8ª série/9º ano do Ensino Fundamental, mas não completou o Ensino Médio.':\n",
    "        inst_mae = 3\n",
    "    elif row['Q002']=='Completou o Ensino Médio, mas não completou a Faculdade.':\n",
    "        inst_mae = 4\n",
    "    elif row['Q002']=='Completou a Faculdade, mas não completou a Pós-graduação.':\n",
    "        inst_mae = 5\n",
    "    else:\n",
    "        inst_mae = 6 \n",
    "        \n",
    "    return inst_pai+inst_mae\n",
    "\n",
    "microdados_['icp_comp_03_parcial'] = microdados_.apply(icp_comp_03, axis=1)\n",
    "\n",
    "quintil = list(microdados_['icp_comp_03_parcial'].quantile([.2,.4,.6,.8]))\n",
    "\n",
    "microdados_['icp_comp_03'] = microdados_['icp_comp_03_parcial'].apply(lambda x: ident_quintil(x))"
   ]
  },
  {
   "cell_type": "code",
   "execution_count": null,
   "id": "9f09d40b",
   "metadata": {},
   "outputs": [],
   "source": [
    "microdados_['icp'] = microdados_['icp_comp_01'] + microdados_['icp_comp_02'] + microdados_['icp_comp_03']"
   ]
  },
  {
   "cell_type": "code",
   "execution_count": null,
   "id": "9d9ad94a",
   "metadata": {},
   "outputs": [],
   "source": [
    "microdados_[['icp', 'nota_media_geral']].groupby(['icp']).mean()"
   ]
  },
  {
   "cell_type": "code",
   "execution_count": null,
   "id": "7fa6fec4",
   "metadata": {},
   "outputs": [],
   "source": [
    "num=2\n",
    "\n",
    "print(f\"Identificador: {microdados_.iloc[num]['NU_INSCRICAO']}\")\n",
    "print(f\"Faixa de Renda: {microdados_.iloc[num]['Q006']}, o que o coloca com índice {microdados_.iloc[num]['icp_comp_01']} no primeiro componente, numa escala de 1 a 5\")\n",
    "print(f\"Celulares na residência: {microdados_.iloc[num]['Q022']}\")\n",
    "print(f\"Computadores na residência: {microdados_.iloc[num]['Q024']}\")\n",
    "print(f\"Internet na residência: {microdados_.iloc[num]['Q025']}, o que o coloca com índice {microdados_.iloc[num]['icp_comp_02']} no segundo componente, numa escala de 1 a 5\")\n",
    "print(f\"Formação do pai: {microdados_.iloc[num]['Q001']}\")\n",
    "print(f\"Formação da mãe: {microdados_.iloc[num]['Q002']}, o que o coloca com índice {microdados_.iloc[num]['icp_comp_03']} no terceiro componente, numa escala de 1 a 5\")\n",
    "print(f\"Índice de Condição Prévia: {microdados_.iloc[num]['icp']}, numa escala de 1 a 15\")"
   ]
  },
  {
   "cell_type": "code",
   "execution_count": null,
   "id": "277185f1",
   "metadata": {},
   "outputs": [],
   "source": [
    "microdados_.columns"
   ]
  },
  {
   "cell_type": "markdown",
   "id": "86768bf9",
   "metadata": {},
   "source": [
    "### 02. ICP por regiões"
   ]
  },
  {
   "cell_type": "code",
   "execution_count": null,
   "id": "7d3dca3f",
   "metadata": {},
   "outputs": [],
   "source": [
    "# Carregando Json com metadados de mapa de municípios\n",
    "objeto_geo_cidades = open('geojs-100-mun.json',)\n",
    "geo_cidades = json.load(objeto_geo_cidades)"
   ]
  },
  {
   "cell_type": "code",
   "execution_count": null,
   "id": "0aaeb327",
   "metadata": {},
   "outputs": [],
   "source": [
    "microdados_geo_mun = microdados_[pd.isna(microdados_['CO_MUNICIPIO_ESC'])==False][['CO_MUNICIPIO_ESC', 'NO_MUNICIPIO_ESC', 'SG_UF_ESC', 'nota_media_geral', 'nota_media_objetivas', 'NU_NOTA_CN', 'NU_NOTA_CH', 'NU_NOTA_LC', 'NU_NOTA_MT', 'icp']]\n",
    "microdados_geo_mun['id'] = microdados_geo_mun['CO_MUNICIPIO_ESC'].apply(lambda x: str(int(x)))\n",
    "microdados_geo_mun_agg = microdados_geo_mun[['id', 'icp']].groupby(['id']).mean().reset_index()\n",
    "\n",
    "microdados_geo_mun_pub = microdados_[(pd.isna(microdados_['CO_MUNICIPIO_ESC'])==False)&(microdados_['TP_DEPENDENCIA_ADM_ESC'].isin(['Estadual', 'Municipal']))][['CO_MUNICIPIO_ESC', 'NO_MUNICIPIO_ESC', 'SG_UF_ESC', 'nota_media_geral', 'nota_media_objetivas', 'NU_NOTA_CN', 'NU_NOTA_CH', 'NU_NOTA_LC', 'NU_NOTA_MT', 'icp']]\n",
    "microdados_geo_mun_pub['id'] = microdados_geo_mun_pub['CO_MUNICIPIO_ESC'].apply(lambda x: str(int(x)))\n",
    "microdados_geo_mun_pub_agg = microdados_geo_mun_pub[['id', 'icp']].groupby(['id']).mean().reset_index()\n"
   ]
  },
  {
   "cell_type": "code",
   "execution_count": null,
   "id": "27f3177d",
   "metadata": {},
   "outputs": [],
   "source": [
    "print(microdados_geo_mun_agg['icp'].min(), \n",
    "      microdados_geo_mun_agg['icp'].max(), \n",
    "      microdados_geo_mun_pub_agg['icp'].min(),\n",
    "      microdados_geo_mun_pub_agg['icp'].max())"
   ]
  },
  {
   "cell_type": "code",
   "execution_count": null,
   "id": "3ad55e39",
   "metadata": {},
   "outputs": [],
   "source": [
    "# Mapa: Municípios, icp\n",
    "mapa_icp = px.choropleth_mapbox(\n",
    "    data_frame = microdados_geo_mun_agg, \n",
    "    geojson = geo_cidades, \n",
    "    locations='id', \n",
    "    featureidkey='properties.id',\n",
    "    color='icp',\n",
    "    #color_continuous_scale= 'reds',\n",
    "    range_color=(3, 13),\n",
    "    mapbox_style='open-street-map',\n",
    "    zoom=2.5, \n",
    "    center = {\"lat\": -17.14, \"lon\": -57.33},\n",
    "    opacity=1,\n",
    "    labels={'icp':'Índice de Condição Prévia dos Alunos', \n",
    "            'id' : 'Código do município'\n",
    "    },\n",
    "    width = 1000,\n",
    "    height = 800,\n",
    "    title = 'ICP médio, por municípios'\n",
    ")\n",
    "\n",
    "# Ajustando as margens\n",
    "mapa_icp.update_layout(margin={'r':0,'t':0,'l':0, 'b':0})\n",
    "\n",
    "# Reduzindo a largura das bordas dos municípios\n",
    "mapa_icp.update_traces(marker_line_width=0.01)\n",
    "\n",
    "# Exibindo o mapa\n",
    "mapa_icp.show()"
   ]
  },
  {
   "cell_type": "code",
   "execution_count": null,
   "id": "fe006045",
   "metadata": {},
   "outputs": [],
   "source": [
    "# Mapa: Municípios, icp_publicas\n",
    "mapa_icp = px.choropleth_mapbox(\n",
    "    data_frame = microdados_geo_mun_pub_agg, \n",
    "    geojson = geo_cidades, \n",
    "    locations='id', \n",
    "    featureidkey='properties.id',\n",
    "    color='icp',\n",
    "    #color_continuous_scale= 'reds',\n",
    "    range_color=(3, 13),\n",
    "    mapbox_style='open-street-map',\n",
    "    zoom=2.5, \n",
    "    center = {\"lat\": -17.14, \"lon\": -57.33},\n",
    "    opacity=1,\n",
    "    labels={'icp':'Índice de Condição Prévia dos Alunos', \n",
    "            'id' : 'Código do município'\n",
    "    },\n",
    "    width = 1000,\n",
    "    height = 800,\n",
    "    title = 'ICP médio, por municípios - escolas públicas'\n",
    ")\n",
    "\n",
    "# Ajustando as margens\n",
    "mapa_icp.update_layout(margin={'r':0,'t':0,'l':0, 'b':0})\n",
    "\n",
    "# Reduzindo a largura das bordas dos municípios\n",
    "mapa_icp.update_traces(marker_line_width=0.01)\n",
    "\n",
    "# Exibindo o mapa\n",
    "mapa_icp.show()"
   ]
  },
  {
   "cell_type": "code",
   "execution_count": null,
   "id": "2f52088b",
   "metadata": {
    "scrolled": true
   },
   "outputs": [],
   "source": [
    "dicio_regioes = {'SE': 'Nordeste',\n",
    "                 'AL': 'Nordeste',\n",
    "                 'PE': 'Nordeste',\n",
    "                 'PB': 'Nordeste',\n",
    "                 'RN': 'Nordeste',\n",
    "                 'CE': 'Nordeste',\n",
    "                 'PI': 'Nordeste',\n",
    "                 'MA': 'Nordeste',\n",
    "                 'BA': 'Nordeste',\n",
    "                 'AP': 'Norte',\n",
    "                 'AM': 'Norte',\n",
    "                 'AC': 'Norte',\n",
    "                 'PA': 'Norte',\n",
    "                 'RR': 'Norte',\n",
    "                 'RO': 'Norte',\n",
    "                 'TO': 'Norte',\n",
    "                 'MG': 'Sudeste',\n",
    "                 'SP': 'Sudeste',\n",
    "                 'RJ': 'Sudeste',\n",
    "                 'ES': 'Sudeste',\n",
    "                 'RS': 'Sul',\n",
    "                 'SC': 'Sul',\n",
    "                 'PR': 'Sul',\n",
    "                 'DF': 'Centro-Oeste',\n",
    "                 'MT': 'Centro-Oeste',\n",
    "                 'MS': 'Centro-Oeste',\n",
    "                 'GO': 'Centro-Oeste'}\n",
    "\n",
    "def regiao(uf):\n",
    "    if uf!=uf:\n",
    "        regiao = 'Sem informação'\n",
    "    else:\n",
    "        regiao = dicio_regioes[uf]\n",
    "    return regiao\n",
    "\n",
    "microdados_['regiao'] = microdados_['SG_UF_ESC'].map(regiao)\n",
    "microdados_geo_mun_pub['regiao'] = microdados_geo_mun_pub['SG_UF_ESC'].map(regiao)\n"
   ]
  },
  {
   "cell_type": "code",
   "execution_count": null,
   "id": "192be051",
   "metadata": {},
   "outputs": [],
   "source": [
    "microdados_[microdados_['regiao']!='Sem informação'][['regiao', 'icp']].groupby(['regiao']).mean().sort_values('icp', ascending=False)\n"
   ]
  },
  {
   "cell_type": "code",
   "execution_count": null,
   "id": "febc58f1",
   "metadata": {
    "scrolled": true
   },
   "outputs": [],
   "source": [
    "microdados_geo_mun_pub[['regiao', 'icp']].groupby(['regiao']).mean().sort_values('icp', ascending=False)\n"
   ]
  },
  {
   "cell_type": "code",
   "execution_count": null,
   "id": "4b767d93",
   "metadata": {},
   "outputs": [],
   "source": [
    "microdados_[microdados_['regiao']!='Sem informação'][['regiao', 'nota_media_geral']].groupby(['regiao']).mean().sort_values('nota_media_geral', ascending=False)\n"
   ]
  },
  {
   "cell_type": "code",
   "execution_count": null,
   "id": "0ec5d32a",
   "metadata": {},
   "outputs": [],
   "source": [
    "microdados_geo_mun_pub[['regiao', 'nota_media_geral']].groupby(['regiao']).mean().sort_values('nota_media_geral', ascending=False)\n"
   ]
  },
  {
   "cell_type": "markdown",
   "id": "92c3846a",
   "metadata": {},
   "source": [
    "### 03. Grupos"
   ]
  },
  {
   "cell_type": "code",
   "execution_count": null,
   "id": "3650b7d2",
   "metadata": {},
   "outputs": [],
   "source": [
    "microdados_[['TP_COR_RACA', 'icp', 'nota_media_geral']].groupby(['TP_COR_RACA']).mean().sort_values('icp', ascending=False)\n"
   ]
  },
  {
   "cell_type": "code",
   "execution_count": null,
   "id": "a77c1074",
   "metadata": {},
   "outputs": [],
   "source": [
    "microdados_[['TP_SEXO', 'icp', 'nota_media_geral']].groupby(['TP_SEXO']).mean().sort_values('icp', ascending=False)\n"
   ]
  },
  {
   "cell_type": "code",
   "execution_count": null,
   "id": "24f2c9dd",
   "metadata": {},
   "outputs": [],
   "source": [
    "microdados_[['icp', 'TP_COR_RACA', 'nota_media_geral']].groupby(['icp', 'TP_COR_RACA']).mean().sort_values(['icp', 'nota_media_geral'], ascending=[True, False]).reset_index().to_excel('icp_raca_nota.xlsx')\n"
   ]
  },
  {
   "cell_type": "code",
   "execution_count": null,
   "id": "811422fa",
   "metadata": {},
   "outputs": [],
   "source": [
    "microdados_[microdados_['TP_DEPENDENCIA_ADM_ESC'].isin(['Estadual', 'Municipal'])][['icp', 'TP_COR_RACA', 'nota_media_geral']].groupby(['icp', 'TP_COR_RACA']).mean().sort_values(['icp', 'nota_media_geral'], ascending=[True, False]).reset_index()#.to_excel('icp_raca_nota_pub.xlsx')\n"
   ]
  },
  {
   "cell_type": "code",
   "execution_count": null,
   "id": "d149f206",
   "metadata": {},
   "outputs": [],
   "source": [
    "df_raca_b_p = microdados_[(microdados_['TP_DEPENDENCIA_ADM_ESC'].isin(['Estadual', 'Municipal'])&(microdados_['TP_COR_RACA']=='Branca'))][['icp', 'nota_media_geral']].groupby(['icp']).mean().sort_values(['icp', 'nota_media_geral'], ascending=[True, False]).reset_index().merge(\n",
    "microdados_[(microdados_['TP_DEPENDENCIA_ADM_ESC'].isin(['Estadual', 'Municipal'])&(microdados_['TP_COR_RACA']=='Preta'))][['icp', 'nota_media_geral']].groupby(['icp']).mean().sort_values(['icp', 'nota_media_geral'], ascending=[True, False]).reset_index(), on = 'icp', how = 'inner')\n",
    "\n",
    "df_raca_b_p['dif'] = df_raca_b_p['nota_media_geral_x'] - df_raca_b_p['nota_media_geral_y']\n",
    "df_raca_b_p['icp_'] = df_raca_b_p['icp'].apply(lambda x: 'ICP ' + str(x))\n",
    "df_raca_b_p[['icp_', 'dif']]\n"
   ]
  },
  {
   "cell_type": "code",
   "execution_count": null,
   "id": "ed0f60c1",
   "metadata": {},
   "outputs": [],
   "source": [
    "microdados_.to_pickle('microdados_.pkl')"
   ]
  },
  {
   "cell_type": "code",
   "execution_count": null,
   "id": "fa372b05",
   "metadata": {},
   "outputs": [],
   "source": []
  }
 ],
 "metadata": {
  "kernelspec": {
   "display_name": "Python 3 (ipykernel)",
   "language": "python",
   "name": "python3"
  },
  "language_info": {
   "codemirror_mode": {
    "name": "ipython",
    "version": 3
   },
   "file_extension": ".py",
   "mimetype": "text/x-python",
   "name": "python",
   "nbconvert_exporter": "python",
   "pygments_lexer": "ipython3",
   "version": "3.10.9"
  }
 },
 "nbformat": 4,
 "nbformat_minor": 5
}
