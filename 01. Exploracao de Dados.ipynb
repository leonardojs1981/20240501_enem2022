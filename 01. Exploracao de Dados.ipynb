{
 "cells": [
  {
   "cell_type": "code",
   "execution_count": null,
   "id": "ba3c6a00",
   "metadata": {},
   "outputs": [],
   "source": [
    "import pandas as pd\n",
    "import json\n",
    "import plotly.express as px\n"
   ]
  },
  {
   "cell_type": "markdown",
   "id": "445f82a6",
   "metadata": {},
   "source": [
    "### 01. Carga dados "
   ]
  },
  {
   "cell_type": "code",
   "execution_count": null,
   "id": "86549c01",
   "metadata": {},
   "outputs": [],
   "source": [
    "microdados = pd.read_csv('microdados_enem_2022/DADOS/MICRODADOS_ENEM_2022.csv', encoding='latin1', sep=';')\n",
    "habitos_estudo = pd.read_csv('microdados_enem_2022/DADOS/QUEST_HAB_ESTUDO.csv', encoding='latin1', sep=';')\n",
    "dicionario_microdados = pd.read_excel('microdados_enem_2022/DICIONÁRIO/Dicionário_Microdados_Enem_2022.xlsx')\n",
    "dicionario_habitos = pd.read_excel('microdados_enem_2022/DICIONÁRIO/Dicionário_Microdados_Enem_2022.xlsx', sheet_name='QUEST_HAB_ESTUDO')\n"
   ]
  },
  {
   "cell_type": "code",
   "execution_count": null,
   "id": "ca61fac0",
   "metadata": {
    "scrolled": true
   },
   "outputs": [],
   "source": [
    "microdados.head()"
   ]
  },
  {
   "cell_type": "code",
   "execution_count": null,
   "id": "a6fa49f2",
   "metadata": {
    "scrolled": true
   },
   "outputs": [],
   "source": [
    "microdados.columns"
   ]
  },
  {
   "cell_type": "code",
   "execution_count": null,
   "id": "c4fe4c01",
   "metadata": {},
   "outputs": [],
   "source": [
    "dicionario_microdados.head()"
   ]
  },
  {
   "cell_type": "code",
   "execution_count": null,
   "id": "33a7f496",
   "metadata": {},
   "outputs": [],
   "source": [
    "habitos_estudo.head()"
   ]
  },
  {
   "cell_type": "code",
   "execution_count": null,
   "id": "41bf690e",
   "metadata": {},
   "outputs": [],
   "source": [
    "habitos_estudo.columns"
   ]
  },
  {
   "cell_type": "code",
   "execution_count": null,
   "id": "6ee29fdb",
   "metadata": {},
   "outputs": [],
   "source": [
    "dicionario_habitos.tail(20)"
   ]
  },
  {
   "cell_type": "markdown",
   "id": "bb0fd1f0",
   "metadata": {},
   "source": [
    "### 02. Ajustes nos dados"
   ]
  },
  {
   "cell_type": "code",
   "execution_count": null,
   "id": "4c30c0e6",
   "metadata": {},
   "outputs": [],
   "source": [
    "# Atribuindo 0 para nan nas notas\n",
    "for i in ['NU_NOTA_CN', 'NU_NOTA_CH', 'NU_NOTA_LC', 'NU_NOTA_MT', 'NU_NOTA_REDACAO']:\n",
    "    microdados[i] = microdados[i].fillna(0)\n",
    "\n",
    "# Criando colunas complementares\n",
    "microdados['nota_media_objetivas'] = (microdados['NU_NOTA_CN'] + microdados['NU_NOTA_CH'] + microdados['NU_NOTA_LC'] + microdados['NU_NOTA_MT'])/4\n",
    "microdados['nota_media_geral'] = (microdados['NU_NOTA_CN'] + microdados['NU_NOTA_CH'] + microdados['NU_NOTA_LC'] + microdados['NU_NOTA_MT'] + microdados['NU_NOTA_REDACAO'])/5\n"
   ]
  },
  {
   "cell_type": "code",
   "execution_count": null,
   "id": "8d7af9ae",
   "metadata": {},
   "outputs": [],
   "source": [
    "# Ajuste nos dicionários de microdados\n",
    "dicionario_microdados = dicionario_microdados.fillna(method='ffill')\n",
    "dicionario_habitos = dicionario_habitos.fillna(method='ffill')"
   ]
  },
  {
   "cell_type": "code",
   "execution_count": null,
   "id": "059ab0f1",
   "metadata": {},
   "outputs": [],
   "source": [
    "dicionario_microdados.head()"
   ]
  },
  {
   "cell_type": "code",
   "execution_count": null,
   "id": "97adf224",
   "metadata": {},
   "outputs": [],
   "source": [
    "# Criando resumo dos dicionários\n",
    "resumo_dicionario_microdados = dicionario_microdados[['DICIONÁRIO DE VARIÁVEIS - ENEM 2022', 'Unnamed: 1']].iloc[3:344].drop_duplicates().reset_index(drop=True)\n",
    "resumo_dicionario_microdados.columns = ['cod_pergunta', 'pergunta']\n",
    "\n",
    "resumo_dicionario_habitos = dicionario_habitos[['QUESTIONÁRIO DE HÁBITOS DE ESTUDO DURANTE A PANDEMIA', 'Unnamed: 1', 'Unnamed: 2']].iloc[2:229].drop_duplicates().reset_index(drop=True)\n",
    "resumo_dicionario_habitos.columns = ['grupo_tematico', 'cod_pergunta', 'pergunta']"
   ]
  },
  {
   "cell_type": "code",
   "execution_count": null,
   "id": "1405411f",
   "metadata": {},
   "outputs": [],
   "source": [
    "resumo_dicionario_microdados"
   ]
  },
  {
   "cell_type": "code",
   "execution_count": null,
   "id": "e2212a5e",
   "metadata": {},
   "outputs": [],
   "source": [
    "resumo_dicionario_habitos"
   ]
  },
  {
   "cell_type": "code",
   "execution_count": null,
   "id": "aacc415b",
   "metadata": {},
   "outputs": [],
   "source": [
    "# Trazendo os valores das respostas codificadas pros microdados\n",
    "\n",
    "for coluna in ['Q025','Q024','Q023','Q022','Q021','Q020','Q019','Q018','Q017','Q016','Q015','Q014','Q013','Q012','Q011','Q010','Q009','Q008','Q007','Q006','Q005','Q004','Q003','Q002','Q001','TP_STATUS_REDACAO','TP_LINGUA','TP_PRESENCA_MT','TP_PRESENCA_LC','TP_PRESENCA_CH','TP_PRESENCA_CN','TP_SIT_FUNC_ESC','TP_LOCALIZACAO_ESC','TP_DEPENDENCIA_ADM_ESC','IN_TREINEIRO','TP_ENSINO','TP_ESCOLA','TP_ANO_CONCLUIU','TP_ST_CONCLUSAO','TP_NACIONALIDADE','TP_COR_RACA','TP_ESTADO_CIVIL','TP_SEXO','TP_FAIXA_ETARIA']:\n",
    "    coluna_microdados = microdados[[coluna]]\n",
    "    extrato_dicionario = dicionario_microdados[dicionario_microdados['DICIONÁRIO DE VARIÁVEIS - ENEM 2022'] == coluna][['Unnamed: 2', 'Unnamed: 3']]\n",
    "    coluna_microdados_ = coluna_microdados.merge(extrato_dicionario, how='left', left_on=coluna, right_on='Unnamed: 2')['Unnamed: 3']\n",
    "    microdados[coluna] = coluna_microdados_"
   ]
  },
  {
   "cell_type": "code",
   "execution_count": null,
   "id": "47453f05",
   "metadata": {
    "scrolled": false
   },
   "outputs": [],
   "source": [
    "# Trazendo os valores das respostas pro dataframe de habitos de estudo\n",
    "\n",
    "for coluna in ['TP_RESPOSTA', 'Q001', 'Q002', 'Q003', 'Q004', 'Q005',\n",
    "       'Q006', 'Q007', 'Q008', 'Q009', 'Q010', 'Q011', 'Q012', 'Q013', 'Q014',\n",
    "       'Q015', 'Q016', 'Q017', 'Q018', 'Q019', 'Q020', 'Q021', 'Q022', 'Q023',\n",
    "       'Q024', 'Q025A', 'Q025B', 'Q025C', 'Q025D', 'Q025E', 'Q025F', 'Q026A',\n",
    "       'Q026B', 'Q026C', 'Q026D', 'Q026E', 'Q026F', 'Q026G', 'Q026H', 'Q027',\n",
    "       'Q028A', 'Q028B', 'Q028C', 'Q028D', 'Q028E', 'Q028F', 'Q028G', 'Q028H',\n",
    "       'Q028I', 'Q028J', 'Q028K', 'Q028L', 'Q028M', 'Q028N', 'Q028O', 'Q028P',\n",
    "       'Q028Q', 'Q028R', 'Q029', 'Q030A', 'Q030B', 'Q030C', 'Q030D', 'Q030E',\n",
    "       'Q030F', 'Q030G', 'Q031', 'Q032A', 'Q032B', 'Q032C', 'Q032D', 'Q032E',\n",
    "       'Q032F', 'Q032G', 'Q033A', 'Q033B', 'Q033C', 'Q033D', 'Q033E', 'Q033F',\n",
    "       'Q033G', 'Q033H', 'Q033I', 'Q033J', 'Q034']:\n",
    "    coluna_habitos = habitos_estudo[[coluna]]\n",
    "    extrato_dicionario = dicionario_habitos[dicionario_habitos['QUESTIONÁRIO DE HÁBITOS DE ESTUDO DURANTE A PANDEMIA'] == coluna][['Unnamed: 3', 'Unnamed: 4']]\n",
    "    coluna_habitos_ = coluna_habitos.merge(extrato_dicionario, how='left', left_on=coluna, right_on='Unnamed: 3')['Unnamed: 4']\n",
    "    habitos_estudo[coluna] = coluna_habitos_\n"
   ]
  },
  {
   "cell_type": "code",
   "execution_count": null,
   "id": "1c46f49c",
   "metadata": {},
   "outputs": [],
   "source": [
    "# Filtrando faltantes\n",
    "microdados_ = microdados[(microdados['TP_PRESENCA_CH']!='Faltou à prova')|\n",
    "                        (microdados['TP_PRESENCA_CN']!='Faltou à prova')|\n",
    "                        (microdados['TP_PRESENCA_LC']!='Faltou à prova')|\n",
    "                        (microdados['TP_PRESENCA_MT']!='Faltou à prova')].reset_index(drop=True)"
   ]
  },
  {
   "cell_type": "code",
   "execution_count": null,
   "id": "23503438",
   "metadata": {},
   "outputs": [],
   "source": [
    "print(len(microdados_), len(microdados))"
   ]
  },
  {
   "cell_type": "markdown",
   "id": "17f83c0b",
   "metadata": {},
   "source": [
    "### 03. Exploração"
   ]
  },
  {
   "cell_type": "markdown",
   "id": "d817664c",
   "metadata": {},
   "source": [
    "###### 3.1. O destino dos 24534 inscritos que nem banheiro tinham"
   ]
  },
  {
   "cell_type": "code",
   "execution_count": null,
   "id": "da7672c3",
   "metadata": {},
   "outputs": [],
   "source": [
    "microdados[['Q008', 'NU_INSCRICAO']].groupby(['Q008']).count()"
   ]
  },
  {
   "cell_type": "code",
   "execution_count": null,
   "id": "1f71b3ec",
   "metadata": {},
   "outputs": [],
   "source": [
    "len(microdados_[microdados_['Q008']=='Não.'])"
   ]
  },
  {
   "cell_type": "code",
   "execution_count": null,
   "id": "43d31b4c",
   "metadata": {},
   "outputs": [],
   "source": [
    "24534-15196"
   ]
  },
  {
   "cell_type": "code",
   "execution_count": null,
   "id": "cc27879e",
   "metadata": {},
   "outputs": [],
   "source": [
    "microdados_[microdados_['Q008']=='Não.'][['NU_INSCRICAO', 'TP_PRESENCA_CN']].groupby(['TP_PRESENCA_CN']).count()"
   ]
  },
  {
   "cell_type": "code",
   "execution_count": null,
   "id": "916f8049",
   "metadata": {
    "scrolled": true
   },
   "outputs": [],
   "source": [
    "microdados_[microdados_['Q008']=='Não.'][['NU_INSCRICAO', 'TP_PRESENCA_CH']].groupby(['TP_PRESENCA_CH']).count()"
   ]
  },
  {
   "cell_type": "code",
   "execution_count": null,
   "id": "43a49fb4",
   "metadata": {},
   "outputs": [],
   "source": [
    "15195-13890"
   ]
  },
  {
   "cell_type": "code",
   "execution_count": null,
   "id": "8cd41b89",
   "metadata": {},
   "outputs": [],
   "source": [
    "len(microdados_[(microdados_['Q008']=='Não.')&(microdados_['TP_PRESENCA_CH']=='Presente na prova')&\n",
    "            (microdados_['TP_PRESENCA_CN']=='Presente na prova')&\n",
    "            (microdados_['TP_PRESENCA_LC']=='Presente na prova')&\n",
    "            (microdados_['TP_PRESENCA_MT']=='Presente na prova')])\n"
   ]
  },
  {
   "cell_type": "code",
   "execution_count": null,
   "id": "26ffce40",
   "metadata": {},
   "outputs": [],
   "source": [
    "13890-12569"
   ]
  },
  {
   "cell_type": "code",
   "execution_count": null,
   "id": "4972dd3c",
   "metadata": {},
   "outputs": [],
   "source": [
    "len(microdados_[(microdados_['Q008']=='Não.')&(microdados_['TP_PRESENCA_CH']=='Presente na prova')&\n",
    "            (microdados_['TP_PRESENCA_CN']=='Presente na prova')&\n",
    "            (microdados_['TP_PRESENCA_LC']=='Presente na prova')&\n",
    "            (microdados_['TP_PRESENCA_MT']=='Presente na prova')&\n",
    "            (microdados_['TP_STATUS_REDACAO']=='Sem problemas')])"
   ]
  },
  {
   "cell_type": "code",
   "execution_count": null,
   "id": "988831b0",
   "metadata": {},
   "outputs": [],
   "source": [
    "len(microdados_[(microdados_['Q008']=='Não.')&(microdados_['TP_PRESENCA_CH']=='Presente na prova')&\n",
    "            (microdados_['TP_PRESENCA_CN']=='Presente na prova')&\n",
    "            (microdados_['TP_PRESENCA_LC']=='Presente na prova')&\n",
    "            (microdados_['TP_PRESENCA_MT']=='Presente na prova')&\n",
    "            (microdados_['TP_STATUS_REDACAO']=='Sem problemas')&\n",
    "            (microdados_['NU_NOTA_CH']>0)&\n",
    "            (microdados_['NU_NOTA_CN']>0)&\n",
    "            (microdados_['NU_NOTA_LC']>0)&\n",
    "            (microdados_['NU_NOTA_MT']>0)&\n",
    "            (microdados_['NU_NOTA_REDACAO']>0)])"
   ]
  },
  {
   "cell_type": "code",
   "execution_count": null,
   "id": "e9b473f2",
   "metadata": {},
   "outputs": [],
   "source": [
    "12549-2967"
   ]
  },
  {
   "cell_type": "code",
   "execution_count": null,
   "id": "18a8d97c",
   "metadata": {},
   "outputs": [],
   "source": [
    "len(microdados_[(microdados_['Q008']=='Não.')&(microdados_['TP_PRESENCA_CH']=='Presente na prova')&\n",
    "            (microdados_['TP_PRESENCA_CN']=='Presente na prova')&\n",
    "            (microdados_['TP_PRESENCA_LC']=='Presente na prova')&\n",
    "            (microdados_['TP_PRESENCA_MT']=='Presente na prova')&\n",
    "            (microdados_['TP_STATUS_REDACAO']=='Sem problemas')&\n",
    "            (microdados_['NU_NOTA_CH']>450)&\n",
    "            (microdados_['NU_NOTA_CN']>450)&\n",
    "            (microdados_['NU_NOTA_LC']>450)&\n",
    "            (microdados_['NU_NOTA_MT']>450)&\n",
    "            (microdados_['NU_NOTA_REDACAO']>0)])"
   ]
  },
  {
   "cell_type": "code",
   "execution_count": null,
   "id": "7ccbf84b",
   "metadata": {},
   "outputs": [],
   "source": [
    "len(microdados_[(microdados_['Q008']=='Não.')&(microdados_['TP_PRESENCA_CH']=='Presente na prova')&\n",
    "            (microdados_['TP_PRESENCA_CN']=='Presente na prova')&\n",
    "            (microdados_['TP_PRESENCA_LC']=='Presente na prova')&\n",
    "            (microdados_['TP_PRESENCA_MT']=='Presente na prova')&\n",
    "            (microdados_['TP_STATUS_REDACAO']=='Sem problemas')&\n",
    "            (microdados_['NU_NOTA_CH']>450)&\n",
    "            (microdados_['NU_NOTA_CN']>450)&\n",
    "            (microdados_['NU_NOTA_LC']>450)&\n",
    "            (microdados_['NU_NOTA_MT']>450)&\n",
    "            (microdados_['NU_NOTA_REDACAO']>0)&\n",
    "            (microdados_['nota_media_geral']>630)])"
   ]
  },
  {
   "cell_type": "code",
   "execution_count": null,
   "id": "5a93a4d4",
   "metadata": {},
   "outputs": [],
   "source": [
    "len(microdados_[(microdados_['Q008']=='Não.')&(microdados_['TP_PRESENCA_CH']=='Presente na prova')&\n",
    "            (microdados_['TP_PRESENCA_CN']=='Presente na prova')&\n",
    "            (microdados_['TP_PRESENCA_LC']=='Presente na prova')&\n",
    "            (microdados_['TP_PRESENCA_MT']=='Presente na prova')&\n",
    "            (microdados_['TP_STATUS_REDACAO']=='Sem problemas')&\n",
    "            (microdados_['NU_NOTA_CH']>450)&\n",
    "            (microdados_['NU_NOTA_CN']>450)&\n",
    "            (microdados_['NU_NOTA_LC']>450)&\n",
    "            (microdados_['NU_NOTA_MT']>450)&\n",
    "            (microdados_['NU_NOTA_REDACAO']>0)&\n",
    "            (microdados_['nota_media_geral']>750)])"
   ]
  },
  {
   "cell_type": "code",
   "execution_count": null,
   "id": "88e177d8",
   "metadata": {},
   "outputs": [],
   "source": [
    "1600/24534"
   ]
  },
  {
   "cell_type": "code",
   "execution_count": null,
   "id": "eab4cb22",
   "metadata": {},
   "outputs": [],
   "source": [
    "len(microdados_[(microdados_['Q008']=='Sim, quatro ou mais.')&(microdados_['TP_PRESENCA_CH']=='Presente na prova')&\n",
    "            (microdados_['TP_PRESENCA_CN']=='Presente na prova')&\n",
    "            (microdados_['TP_PRESENCA_LC']=='Presente na prova')&\n",
    "            (microdados_['TP_PRESENCA_MT']=='Presente na prova')&\n",
    "            (microdados_['TP_STATUS_REDACAO']=='Sem problemas')&\n",
    "            (microdados_['NU_NOTA_CH']>450)&\n",
    "            (microdados_['NU_NOTA_CN']>450)&\n",
    "            (microdados_['NU_NOTA_LC']>450)&\n",
    "            (microdados_['NU_NOTA_MT']>450)&\n",
    "            (microdados_['NU_NOTA_REDACAO']>0)&\n",
    "            (microdados_['nota_media_geral']>750)])"
   ]
  },
  {
   "cell_type": "code",
   "execution_count": null,
   "id": "f84d9480",
   "metadata": {},
   "outputs": [],
   "source": [
    "511400/135552"
   ]
  },
  {
   "cell_type": "markdown",
   "id": "8c59ea79",
   "metadata": {},
   "source": [
    "###### 3.2. Perfil dos candidatos e nota"
   ]
  },
  {
   "cell_type": "code",
   "execution_count": null,
   "id": "20f79bf4",
   "metadata": {},
   "outputs": [],
   "source": [
    "microdados_['nota_media_geral'].hist(bins=50)"
   ]
  },
  {
   "cell_type": "code",
   "execution_count": null,
   "id": "e6cfbb03",
   "metadata": {},
   "outputs": [],
   "source": [
    "print('Nota máxima: ', microdados_['nota_media_geral'].max())\n",
    "print('Número de zeros: ', len(microdados_[microdados_['nota_media_geral']==0]))\n",
    "print('Nota média: ', microdados_['nota_media_geral'].mean())\n",
    "\n"
   ]
  },
  {
   "cell_type": "markdown",
   "id": "a34c6330",
   "metadata": {},
   "source": [
    "###### -> Número de banheiros"
   ]
  },
  {
   "cell_type": "code",
   "execution_count": null,
   "id": "de9f1d4c",
   "metadata": {
    "scrolled": true
   },
   "outputs": [],
   "source": [
    "microdados_[['Q008', 'nota_media_geral']].groupby(['Q008']).mean()"
   ]
  },
  {
   "cell_type": "markdown",
   "id": "c71807d2",
   "metadata": {},
   "source": [
    "###### -> Carros"
   ]
  },
  {
   "cell_type": "code",
   "execution_count": null,
   "id": "eda7536c",
   "metadata": {},
   "outputs": [],
   "source": [
    "microdados_[['Q010', 'nota_media_geral']].groupby(['Q010']).mean()"
   ]
  },
  {
   "cell_type": "markdown",
   "id": "051715ec",
   "metadata": {},
   "source": [
    "###### -> Quartos"
   ]
  },
  {
   "cell_type": "code",
   "execution_count": null,
   "id": "4c0053c1",
   "metadata": {
    "scrolled": true
   },
   "outputs": [],
   "source": [
    "microdados_[['Q009', 'nota_media_geral']].groupby(['Q009']).mean()"
   ]
  },
  {
   "cell_type": "markdown",
   "id": "bb644996",
   "metadata": {},
   "source": [
    "###### -> Renda familiar"
   ]
  },
  {
   "cell_type": "code",
   "execution_count": null,
   "id": "f9191231",
   "metadata": {},
   "outputs": [],
   "source": [
    "microdados_[['Q006', 'nota_media_geral']].groupby(['Q006']).mean()"
   ]
  },
  {
   "cell_type": "markdown",
   "id": "23593f8a",
   "metadata": {},
   "source": [
    "###### -> Renda per capita familiar\n"
   ]
  },
  {
   "cell_type": "code",
   "execution_count": null,
   "id": "e2b65b24",
   "metadata": {},
   "outputs": [],
   "source": [
    "# Criando dicionário de referência das faixas de renda familiar\n",
    "# Isso é necessário, porque pretendo calcular renda percapita, então preciso identificar um valor base para cálculo\n",
    "\n",
    "def identifica_val_ref(faixa):\n",
    "    if 'Acima' in faixa:\n",
    "        val_ref = 24240.00\n",
    "    elif faixa=='Nenhuma Renda':\n",
    "        val_ref = 0\n",
    "    elif '1.818,00' in faixa[-10:]:\n",
    "        val_ref = 1515.005\n",
    "    elif '2.424,00' in faixa[-10:]:\n",
    "        val_ref = 2121.005\n",
    "    elif '3.030,00' in faixa[-10:]:\n",
    "        val_ref = 2727.005\n",
    "    elif '3.636,00' in faixa[-10:]:\n",
    "        val_ref = 3333.005\n",
    "    elif '4.848,00' in faixa[-10:]:\n",
    "        val_ref = 4242.005\n",
    "    elif '6.060,00' in faixa[-10:]:\n",
    "        val_ref = 5454.005\n",
    "    elif '7.272,00' in faixa[-10:]:\n",
    "        val_ref = 6666.005\n",
    "    elif '8.484,00' in faixa[-10:]:\n",
    "        val_ref = 7878.005\n",
    "    elif '9.696,00' in faixa[-10:]:\n",
    "        val_ref = 9090.005\n",
    "    elif '10.908,00' in faixa[-10:]:\n",
    "        val_ref = 10302.005\n",
    "    elif '12.120,00' in faixa[-10:]:\n",
    "        val_ref = 11514.005\n",
    "    elif '14.544,00' in faixa[-10:]:\n",
    "        val_ref = 13332.005\n",
    "    elif '18.180,00' in faixa[-10:]:\n",
    "        val_ref = 16362.005\n",
    "    elif '24.240,00' in faixa[-10:]:\n",
    "        val_ref = 21210.005\n",
    "    else:\n",
    "        val_ref = 606.00\n",
    "    return val_ref\n",
    "\n",
    "\n",
    "microdados_['valor_referencia_renda_familia'] = microdados_['Q006'].apply(lambda x: identifica_val_ref(x))"
   ]
  },
  {
   "cell_type": "code",
   "execution_count": null,
   "id": "3737ea39",
   "metadata": {},
   "outputs": [],
   "source": [
    "# Ajuste no formato do dado de número de pessoas na residência\n",
    "\n",
    "def ajuste_residentes(x):\n",
    "    if x=='1, pois moro sozinho(a).':\n",
    "        y = 1\n",
    "    else:\n",
    "        y = float(x)\n",
    "    return y\n",
    "\n",
    "microdados_['num_residentes'] = microdados_['Q005'].apply(lambda x: ajuste_residentes(x))\n",
    "\n",
    "# Renda percapita\n",
    "microdados_['renda_percapita'] = microdados_['valor_referencia_renda_familia']/microdados_['num_residentes']"
   ]
  },
  {
   "cell_type": "code",
   "execution_count": null,
   "id": "d479c513",
   "metadata": {},
   "outputs": [],
   "source": [
    "microdados_['renda_percapita'].hist(bins=50)"
   ]
  },
  {
   "cell_type": "code",
   "execution_count": null,
   "id": "ff56d604",
   "metadata": {},
   "outputs": [],
   "source": [
    "# Classes de renda percapita\n",
    "\n",
    "decil = list(microdados_['renda_percapita'].quantile([.1,.2,.3,.4,.5,.6,.7,.8,.9]))\n",
    "\n",
    "def ident_decil(num):\n",
    "    if num <= decil[0]:\n",
    "        y = 1\n",
    "    elif num <= decil[1]:\n",
    "        y = 2\n",
    "    elif num <= decil[2]:\n",
    "        y = 3\n",
    "    elif num <= decil[3]:\n",
    "        y = 4\n",
    "    elif num <= decil[4]:\n",
    "        y = 5\n",
    "    elif num <= decil[5]:\n",
    "        y = 6\n",
    "    elif num <= decil[6]:\n",
    "        y = 7\n",
    "    elif num <= decil[7]:\n",
    "        y = 8\n",
    "    elif num <= decil[8]:\n",
    "        y = 9\n",
    "    else:\n",
    "        y = 10\n",
    "    return y\n",
    "\n",
    "microdados_['classe_renda_percapita'] = microdados_['renda_percapita'].apply(lambda x: ident_decil(x))\n"
   ]
  },
  {
   "cell_type": "code",
   "execution_count": null,
   "id": "e9ba5ce5",
   "metadata": {},
   "outputs": [],
   "source": [
    "microdados_[['classe_renda_percapita', 'nota_media_geral']].groupby(['classe_renda_percapita']).mean()"
   ]
  },
  {
   "cell_type": "code",
   "execution_count": null,
   "id": "3ed65e60",
   "metadata": {},
   "outputs": [],
   "source": [
    "microdados_[['Q006', 'nota_media_geral']].groupby(['Q006']).mean()"
   ]
  },
  {
   "cell_type": "markdown",
   "id": "f8d9c789",
   "metadata": {},
   "source": [
    "#### ------- Pickle --------"
   ]
  },
  {
   "cell_type": "code",
   "execution_count": null,
   "id": "b93fbe2a",
   "metadata": {},
   "outputs": [],
   "source": [
    "microdados_.to_pickle('microdados_.pkl')"
   ]
  },
  {
   "cell_type": "markdown",
   "id": "77efaa9e",
   "metadata": {},
   "source": [
    "#### ------- Pickle --------"
   ]
  },
  {
   "cell_type": "markdown",
   "id": "eea5c0d1",
   "metadata": {},
   "source": [
    "###### -> Localidade"
   ]
  },
  {
   "cell_type": "code",
   "execution_count": null,
   "id": "aecf6573",
   "metadata": {
    "scrolled": true
   },
   "outputs": [],
   "source": [
    "microdados_[['TP_LOCALIZACAO_ESC', 'nota_media_geral']].groupby(['TP_LOCALIZACAO_ESC']).mean()"
   ]
  },
  {
   "cell_type": "markdown",
   "id": "0d2b8fa1",
   "metadata": {},
   "source": [
    "###### -> Tipo Escola"
   ]
  },
  {
   "cell_type": "code",
   "execution_count": null,
   "id": "c834a4cd",
   "metadata": {
    "scrolled": false
   },
   "outputs": [],
   "source": [
    "microdados_[['TP_DEPENDENCIA_ADM_ESC', 'nota_media_geral']].groupby(['TP_DEPENDENCIA_ADM_ESC']).mean()"
   ]
  },
  {
   "cell_type": "markdown",
   "id": "eb13c31e",
   "metadata": {},
   "source": [
    "###### -> Raça"
   ]
  },
  {
   "cell_type": "code",
   "execution_count": null,
   "id": "90a27f78",
   "metadata": {
    "scrolled": false
   },
   "outputs": [],
   "source": [
    "microdados_[['TP_COR_RACA', 'nota_media_geral']].groupby(['TP_COR_RACA']).mean()"
   ]
  },
  {
   "cell_type": "markdown",
   "id": "bb14f74d",
   "metadata": {},
   "source": [
    "###### -> Gênero"
   ]
  },
  {
   "cell_type": "code",
   "execution_count": null,
   "id": "8ec56ae5",
   "metadata": {
    "scrolled": false
   },
   "outputs": [],
   "source": [
    "microdados_[['TP_SEXO', 'nota_media_geral']].groupby(['TP_SEXO']).mean()"
   ]
  },
  {
   "cell_type": "markdown",
   "id": "453299f8",
   "metadata": {},
   "source": [
    "###### -> Regional"
   ]
  },
  {
   "cell_type": "code",
   "execution_count": null,
   "id": "f37cb1ad",
   "metadata": {},
   "outputs": [],
   "source": [
    "microdados_ = pd.read_pickle('microdados_.pkl')"
   ]
  },
  {
   "cell_type": "code",
   "execution_count": null,
   "id": "399d6f49",
   "metadata": {},
   "outputs": [],
   "source": [
    "# Carregando Json com metadados de mapa de municípios\n",
    "objeto_geo_cidades = open('geojs-100-mun.json',)\n",
    "geo_cidades = json.load(objeto_geo_cidades) \n"
   ]
  },
  {
   "cell_type": "code",
   "execution_count": null,
   "id": "ab11f25e",
   "metadata": {},
   "outputs": [],
   "source": [
    "microdados_geo_mun = microdados_[pd.isna(microdados_['CO_MUNICIPIO_ESC'])==False][['CO_MUNICIPIO_ESC', 'NO_MUNICIPIO_ESC', 'SG_UF_ESC', 'nota_media_geral', 'nota_media_objetivas', 'NU_NOTA_CN', 'NU_NOTA_CH', 'NU_NOTA_LC', 'NU_NOTA_MT']]\n",
    "microdados_geo_mun['id'] = microdados_geo_mun['CO_MUNICIPIO_ESC'].apply(lambda x: str(int(x)))\n",
    "microdados_geo_mun_agg = microdados_geo_mun[['id', 'nota_media_geral']].groupby(['id']).mean().reset_index()\n"
   ]
  },
  {
   "cell_type": "code",
   "execution_count": null,
   "id": "787b184c",
   "metadata": {},
   "outputs": [],
   "source": [
    "microdados_geo_uf = microdados_[pd.isna(microdados_['SG_UF_ESC'])==False][['CO_MUNICIPIO_ESC', 'NO_MUNICIPIO_ESC', 'SG_UF_ESC', 'nota_media_geral', 'nota_media_objetivas', 'NU_NOTA_CN', 'NU_NOTA_CH', 'NU_NOTA_LC', 'NU_NOTA_MT']]\n",
    "microdados_geo_uf_agg = microdados_geo_uf[['SG_UF_ESC', 'nota_media_geral']].groupby(['SG_UF_ESC']).mean().reset_index()\n",
    "microdados_geo_uf_agg = microdados_geo_uf_agg.rename(columns={'SG_UF_ESC':'id'})\n"
   ]
  },
  {
   "cell_type": "code",
   "execution_count": null,
   "id": "33541b67",
   "metadata": {},
   "outputs": [],
   "source": [
    "microdados_geo_mun_pub = microdados_[(pd.isna(microdados_['CO_MUNICIPIO_ESC'])==False)&(microdados_['TP_DEPENDENCIA_ADM_ESC'].isin(['Estadual', 'Municipal']))][['CO_MUNICIPIO_ESC', 'NO_MUNICIPIO_ESC', 'SG_UF_ESC', 'nota_media_geral', 'nota_media_objetivas', 'NU_NOTA_CN', 'NU_NOTA_CH', 'NU_NOTA_LC', 'NU_NOTA_MT']]\n",
    "microdados_geo_mun_pub['id'] = microdados_geo_mun_pub['CO_MUNICIPIO_ESC'].apply(lambda x: str(int(x)))\n",
    "microdados_geo_mun_pub_agg = microdados_geo_mun_pub[['id', 'nota_media_geral']].groupby(['id']).mean().reset_index()\n"
   ]
  },
  {
   "cell_type": "code",
   "execution_count": null,
   "id": "acfd0f59",
   "metadata": {},
   "outputs": [],
   "source": [
    "len(microdados_geo_mun_pub)"
   ]
  },
  {
   "cell_type": "code",
   "execution_count": null,
   "id": "caf9165d",
   "metadata": {},
   "outputs": [],
   "source": [
    "def classe_nota(nota):\n",
    "    if nota > 500:\n",
    "        classe = 'Acima de 500'\n",
    "    else:\n",
    "        classe = 'Abaixo de 500'\n",
    "    return classe\n",
    "\n",
    "microdados_geo_mun_agg['classe'] = microdados_geo_mun_agg['nota_media_geral'].map(classe_nota)\n",
    "microdados_geo_uf_agg['classe'] = microdados_geo_uf_agg['nota_media_geral'].map(classe_nota)\n",
    "microdados_geo_mun_pub_agg['classe'] = microdados_geo_mun_pub_agg['nota_media_geral'].map(classe_nota)"
   ]
  },
  {
   "cell_type": "code",
   "execution_count": null,
   "id": "acd062d3",
   "metadata": {
    "scrolled": true
   },
   "outputs": [],
   "source": [
    "print(microdados_geo_mun_agg['nota_media_geral'].min(), \n",
    "      microdados_geo_mun_agg['nota_media_geral'].max(), \n",
    "      microdados_geo_uf_agg['nota_media_geral'].min(), \n",
    "      microdados_geo_uf_agg['nota_media_geral'].max(),\n",
    "      microdados_geo_mun_pub_agg['nota_media_geral'].min(),\n",
    "      microdados_geo_mun_pub_agg['nota_media_geral'].max())\n",
    "      "
   ]
  },
  {
   "cell_type": "code",
   "execution_count": null,
   "id": "c9e11672",
   "metadata": {},
   "outputs": [],
   "source": [
    "# Mapa: Municípios, classe nota\n",
    "mapa_notas = px.choropleth_mapbox(\n",
    "    data_frame = microdados_geo_mun_agg, \n",
    "    geojson = geo_cidades, \n",
    "    locations='id', \n",
    "    featureidkey='properties.id',\n",
    "    color='classe',\n",
    "    #color_continuous_scale= 'reds',\n",
    "    range_color=(140, 680),\n",
    "    mapbox_style='open-street-map',\n",
    "    zoom=2.5, \n",
    "    center = {\"lat\": -17.14, \"lon\": -57.33},\n",
    "    opacity=1,\n",
    "    labels={'nota_media_geral':'Nota Média, incluindo redação', \n",
    "            'id' : 'Código do município'\n",
    "    },\n",
    "    width = 1000,\n",
    "    height = 800,\n",
    "    title = 'Nota média no ENEM. 2022, por municípios'\n",
    ")\n",
    "\n",
    "# Ajustando as margens\n",
    "mapa_notas.update_layout(margin={'r':0,'t':0,'l':0, 'b':0})\n",
    "\n",
    "# Reduzindo a largura das bordas dos municípios\n",
    "mapa_notas.update_traces(marker_line_width=0.01)\n",
    "\n",
    "# Exibindo o mapa\n",
    "mapa_notas.show()"
   ]
  },
  {
   "cell_type": "code",
   "execution_count": null,
   "id": "283245fd",
   "metadata": {},
   "outputs": [],
   "source": [
    "# Mapa: Municípios, nota\n",
    "mapa_notas = px.choropleth_mapbox(\n",
    "    data_frame = microdados_geo_mun_agg, \n",
    "    geojson = geo_cidades, \n",
    "    locations='id', \n",
    "    featureidkey='properties.id',\n",
    "    color='nota_media_geral',\n",
    "    #color_continuous_scale= 'reds',\n",
    "    range_color=(140, 680),\n",
    "    mapbox_style='open-street-map',\n",
    "    zoom=2.5, \n",
    "    center = {\"lat\": -17.14, \"lon\": -57.33},\n",
    "    opacity=1,\n",
    "    labels={'nota_media_geral':'Nota Média, incluindo redação', \n",
    "            'id' : 'Código do município'\n",
    "    },\n",
    "    width = 1000,\n",
    "    height = 800,\n",
    "    title = 'Nota média no ENEM. 2022, por municípios'\n",
    ")\n",
    "\n",
    "# Ajustando as margens\n",
    "mapa_notas.update_layout(margin={'r':0,'t':0,'l':0, 'b':0})\n",
    "\n",
    "# Reduzindo a largura das bordas dos municípios\n",
    "mapa_notas.update_traces(marker_line_width=0.01)\n",
    "\n",
    "# Exibindo o mapa\n",
    "mapa_notas.show()"
   ]
  },
  {
   "cell_type": "code",
   "execution_count": null,
   "id": "97e68dc3",
   "metadata": {},
   "outputs": [],
   "source": []
  },
  {
   "cell_type": "code",
   "execution_count": null,
   "id": "631958f4",
   "metadata": {},
   "outputs": [],
   "source": [
    "# Mapa: Municípios, escolas públicas, classe nota\n",
    "mapa_notas = px.choropleth_mapbox(\n",
    "    data_frame = microdados_geo_mun_pub_agg, \n",
    "    geojson = geo_cidades, \n",
    "    locations='id', \n",
    "    featureidkey='properties.id',\n",
    "    color='classe',\n",
    "    #color_continuous_scale= 'reds',\n",
    "    range_color=(140, 680),\n",
    "    mapbox_style='open-street-map',\n",
    "    zoom=2.5, \n",
    "    center = {\"lat\": -17.14, \"lon\": -57.33},\n",
    "    opacity=1,\n",
    "    labels={'nota_media_geral':'Nota Média, incluindo redação', \n",
    "            'id' : 'Código do município'\n",
    "    },\n",
    "    width = 1000,\n",
    "    height = 800,\n",
    "    title = 'Nota média no ENEM. 2022, por municípios'\n",
    ")\n",
    "\n",
    "# Ajustando as margens\n",
    "mapa_notas.update_layout(margin={'r':0,'t':0,'l':0, 'b':0})\n",
    "\n",
    "# Reduzindo a largura das bordas dos municípios\n",
    "mapa_notas.update_traces(marker_line_width=0.01)\n",
    "\n",
    "# Exibindo o mapa\n",
    "mapa_notas.show()"
   ]
  },
  {
   "cell_type": "code",
   "execution_count": null,
   "id": "9a494f7a",
   "metadata": {},
   "outputs": [],
   "source": [
    "# Mapa: Municípios, escolas públicas, nota\n",
    "mapa_notas = px.choropleth_mapbox(\n",
    "    data_frame = microdados_geo_mun_pub_agg, \n",
    "    geojson = geo_cidades, \n",
    "    locations='id', \n",
    "    featureidkey='properties.id',\n",
    "    color='nota_media_geral',\n",
    "    #color_continuous_scale= 'reds',\n",
    "    range_color=(140, 680),\n",
    "    mapbox_style='open-street-map',\n",
    "    zoom=2.5, \n",
    "    center = {\"lat\": -17.14, \"lon\": -57.33},\n",
    "    opacity=1,\n",
    "    labels={'nota_media_geral':'Nota Média, incluindo redação', \n",
    "            'id' : 'Código do município'\n",
    "    },\n",
    "    width = 1000,\n",
    "    height = 800,\n",
    "    title = 'Nota média no ENEM. 2022, por municípios'\n",
    ")\n",
    "\n",
    "# Ajustando as margens\n",
    "mapa_notas.update_layout(margin={'r':0,'t':0,'l':0, 'b':0})\n",
    "\n",
    "# Reduzindo a largura das bordas dos municípios\n",
    "mapa_notas.update_traces(marker_line_width=0.01)\n",
    "\n",
    "# Exibindo o mapa\n",
    "mapa_notas.show()"
   ]
  },
  {
   "cell_type": "markdown",
   "id": "e1c9bf50",
   "metadata": {},
   "source": [
    "###### -> Top 100"
   ]
  },
  {
   "cell_type": "code",
   "execution_count": null,
   "id": "5e83717e",
   "metadata": {},
   "outputs": [],
   "source": [
    "top_100 = microdados_.sort_values('nota_media_geral', ascending=False)[['SG_UF_ESC', 'TP_DEPENDENCIA_ADM_ESC', 'TP_LOCALIZACAO_ESC', 'Q006', 'TP_COR_RACA', 'TP_SEXO']].head(100)\n",
    "top_100.head()\n"
   ]
  },
  {
   "cell_type": "code",
   "execution_count": null,
   "id": "52b09c6d",
   "metadata": {},
   "outputs": [],
   "source": [
    "top_100['TP_COR_RACA'].value_counts(normalize=True)"
   ]
  },
  {
   "cell_type": "code",
   "execution_count": null,
   "id": "920bdb43",
   "metadata": {},
   "outputs": [],
   "source": [
    "top_100['TP_SEXO'].value_counts(normalize=True)"
   ]
  },
  {
   "cell_type": "code",
   "execution_count": null,
   "id": "2d8a0e0c",
   "metadata": {},
   "outputs": [],
   "source": [
    "top_100['Q006'].value_counts(normalize=True)"
   ]
  },
  {
   "cell_type": "code",
   "execution_count": null,
   "id": "ea8765d0",
   "metadata": {},
   "outputs": [],
   "source": [
    "top_100['TP_LOCALIZACAO_ESC'].value_counts(normalize=True)"
   ]
  },
  {
   "cell_type": "code",
   "execution_count": null,
   "id": "50acc445",
   "metadata": {},
   "outputs": [],
   "source": [
    "top_100['TP_DEPENDENCIA_ADM_ESC'].value_counts(normalize=True)"
   ]
  },
  {
   "cell_type": "code",
   "execution_count": null,
   "id": "e33f5ee5",
   "metadata": {
    "scrolled": true
   },
   "outputs": [],
   "source": [
    "top_100['SG_UF_ESC'].value_counts(normalize=True)"
   ]
  },
  {
   "cell_type": "markdown",
   "id": "31721115",
   "metadata": {},
   "source": [
    "###### -> Tail 100"
   ]
  },
  {
   "cell_type": "code",
   "execution_count": null,
   "id": "32c4b881",
   "metadata": {},
   "outputs": [],
   "source": [
    "tail_100 = microdados_.sort_values('nota_media_geral', ascending=False)[['SG_UF_ESC', 'TP_DEPENDENCIA_ADM_ESC', 'TP_LOCALIZACAO_ESC', 'Q006', 'TP_COR_RACA', 'TP_SEXO']].tail(100)\n",
    "tail_100.head()\n"
   ]
  },
  {
   "cell_type": "code",
   "execution_count": null,
   "id": "3f31c729",
   "metadata": {},
   "outputs": [],
   "source": [
    "tail_100['TP_COR_RACA'].value_counts(normalize=True)"
   ]
  },
  {
   "cell_type": "code",
   "execution_count": null,
   "id": "576c7e00",
   "metadata": {},
   "outputs": [],
   "source": [
    "tail_100['TP_SEXO'].value_counts(normalize=True)"
   ]
  },
  {
   "cell_type": "code",
   "execution_count": null,
   "id": "94056135",
   "metadata": {},
   "outputs": [],
   "source": [
    "tail_100['Q006'].value_counts(normalize=True)"
   ]
  },
  {
   "cell_type": "code",
   "execution_count": null,
   "id": "d7c32fae",
   "metadata": {},
   "outputs": [],
   "source": [
    "tail_100['TP_LOCALIZACAO_ESC'].value_counts(normalize=True)"
   ]
  },
  {
   "cell_type": "code",
   "execution_count": null,
   "id": "008f5c91",
   "metadata": {},
   "outputs": [],
   "source": [
    "tail_100['TP_DEPENDENCIA_ADM_ESC'].value_counts(normalize=True)"
   ]
  },
  {
   "cell_type": "code",
   "execution_count": null,
   "id": "15007418",
   "metadata": {
    "scrolled": true
   },
   "outputs": [],
   "source": [
    "tail_100['SG_UF_ESC'].value_counts(normalize=True)"
   ]
  },
  {
   "cell_type": "code",
   "execution_count": null,
   "id": "a7d55936",
   "metadata": {},
   "outputs": [],
   "source": [
    "microdados_.to_pickle('microdados_.pkl')"
   ]
  },
  {
   "cell_type": "code",
   "execution_count": null,
   "id": "5eee6927",
   "metadata": {},
   "outputs": [],
   "source": [
    "microdados_geo_mun.to_pickle('microdados_geo_mun.pkl')\n"
   ]
  },
  {
   "cell_type": "code",
   "execution_count": null,
   "id": "11f8bc73",
   "metadata": {},
   "outputs": [],
   "source": []
  }
 ],
 "metadata": {
  "kernelspec": {
   "display_name": "Python 3 (ipykernel)",
   "language": "python",
   "name": "python3"
  },
  "language_info": {
   "codemirror_mode": {
    "name": "ipython",
    "version": 3
   },
   "file_extension": ".py",
   "mimetype": "text/x-python",
   "name": "python",
   "nbconvert_exporter": "python",
   "pygments_lexer": "ipython3",
   "version": "3.10.9"
  }
 },
 "nbformat": 4,
 "nbformat_minor": 5
}
